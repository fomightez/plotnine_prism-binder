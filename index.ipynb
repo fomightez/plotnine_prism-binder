{
 "cells": [
  {
   "cell_type": "markdown",
   "metadata": {},
   "source": [
    "## Plotnine with Prism themes"
   ]
  },
  {
   "cell_type": "markdown",
   "metadata": {},
   "source": [
    "Choose one of the available notebooks to get started. If you are new, start at the top and work down.\n",
    "\n",
    "### Available Notebooks\n",
    "\n",
    "- [Getting Started](get_started.ipynb)\n",
    "- More to come....\n",
    "- More to come....\n",
    "\n",
    "\n",
    "#### Advanced/Technical/Accessory:\n",
    "- Any of these?\n",
    "\n",
    "  \n",
    "#### Related\n",
    "\n",
    "- In [my 3Dsurface_plot-binder](https://github.com/fomightez/3Dsurface_plot-binder) there's a demonstration of Plotnine to generate a 3D surface, see `Plotnine3d-surface-plots.ipynb` there.\n",
    "\n",
    "-----"
   ]
  }
 ],
 "metadata": {
  "kernelspec": {
   "display_name": "Python 3 (ipykernel)",
   "language": "python",
   "name": "python3"
  },
  "language_info": {
   "codemirror_mode": {
    "name": "ipython",
    "version": 3
   },
   "file_extension": ".py",
   "mimetype": "text/x-python",
   "name": "python",
   "nbconvert_exporter": "python",
   "pygments_lexer": "ipython3",
   "version": "3.10.16"
  }
 },
 "nbformat": 4,
 "nbformat_minor": 4
}
