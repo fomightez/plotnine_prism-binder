{
 "cells": [
  {
   "cell_type": "code",
   "execution_count": null,
   "metadata": {},
   "outputs": [],
   "source": [
    "%%capture\n",
    "!curl -OL https://raw.githubusercontent.com/pwwang/plotnine-prism/refs/heads/master/examples/nb_helpers.py\n",
    "from datar.datasets import mpg\n",
    "from plotnine import *\n",
    "from plotnine_prism import *\n",
    "\n",
    "%run nb_helpers.py\n"
   ]
  },
  {
   "cell_type": "code",
   "execution_count": null,
   "metadata": {},
   "outputs": [],
   "source": [
    "\n",
    "base = ggplot(mpg, aes(x=\"displ\", y=\"cty\")) + geom_point(aes(colour=\"class\"))\n",
    "\n",
    "base"
   ]
  },
  {
   "cell_type": "code",
   "execution_count": null,
   "metadata": {},
   "outputs": [],
   "source": [
    "# apply default theme\n",
    "p1 = (\n",
    "    base\n",
    "    + theme_prism()\n",
    "    + theme(\n",
    "        legend_position=(0.8, 0.7),\n",
    "        legend_key_height=10,\n",
    "    )\n",
    ")\n",
    "p2 = (\n",
    "    base\n",
    "    + theme_prism()\n",
    "    + theme(\n",
    "        legend_position=(0.8, 0.7),\n",
    "        legend_key_height=10,\n",
    "        legend_title=element_text(margin={'b': 8}),\n",
    "    )\n",
    ")\n",
    "\n",
    "print(p1, p2)\n"
   ]
  },
  {
   "cell_type": "code",
   "execution_count": null,
   "metadata": {},
   "outputs": [],
   "source": [
    "# redefine base plot without a legend for convenience\n",
    "base = ggplot(mpg, aes(x=\"displ\", y=\"cty\")) + geom_point(\n",
    "    aes(colour=\"class\"), show_legend=False\n",
    ")\n",
    "\n",
    "# adjust overall theme size\n",
    "p1 = base + theme_prism(base_size=10)\n",
    "p2 = base + theme_prism(base_size=16)\n",
    "\n",
    "print(p1, p2)\n"
   ]
  },
  {
   "cell_type": "code",
   "execution_count": null,
   "metadata": {},
   "outputs": [],
   "source": [
    "# adjust overall theme size with specific line size\n",
    "p1 = base + theme_prism(base_size = 12)\n",
    "p2 = base + theme_prism(base_size = 12, base_line_size = 0.2)\n",
    "\n",
    "print(p1, p2)"
   ]
  },
  {
   "cell_type": "code",
   "execution_count": null,
   "metadata": {},
   "outputs": [],
   "source": [
    "# change fontface or font family\n",
    "p1 = base + theme_prism(base_fontface = \"plain\")\n",
    "p2 = base + theme_prism(base_family = \"monospace\")\n",
    "\n",
    "print(p1, p2)"
   ]
  },
  {
   "cell_type": "code",
   "execution_count": null,
   "metadata": {},
   "outputs": [],
   "source": [
    "# change x axis text angle\n",
    "p1 = base + theme_prism(axis_text_angle = 45)\n",
    "p2 = base + theme_prism(axis_text_angle = 90)\n",
    "\n",
    "print(p1, p2)"
   ]
  },
  {
   "cell_type": "code",
   "execution_count": null,
   "metadata": {},
   "outputs": [],
   "source": [
    "# add a border and adjust its thickness\n",
    "p1 = base + theme_prism(border=True) + coord_cartesian()\n",
    "p2 = (\n",
    "    base\n",
    "    + theme_prism(border=True, base_rect_size=4)\n",
    "    + coord_cartesian()  # adjust thickness\n",
    ")\n",
    "\n",
    "print(p1, p2)\n"
   ]
  },
  {
   "cell_type": "code",
   "execution_count": null,
   "metadata": {},
   "outputs": [],
   "source": [
    "# Theme palettes\n",
    "\n",
    "display(str(list_themes()))"
   ]
  },
  {
   "cell_type": "code",
   "execution_count": null,
   "metadata": {},
   "outputs": [],
   "source": [
    "# try out some different theme palettes\n",
    "p1 = base + theme_prism(palette = \"purple_passion\")\n",
    "p2 = base + theme_prism(palette = \"candy_bright\")\n",
    "\n",
    "print(p1, p2)"
   ]
  },
  {
   "cell_type": "code",
   "execution_count": null,
   "metadata": {},
   "outputs": [],
   "source": [
    "# compare two identical theme palettes\n",
    "p1 = base + theme_prism(palette = \"black_and_white\")\n",
    "p2 = base + theme_prism(palette = \"plasma\")\n",
    "\n",
    "print(p1, p2)"
   ]
  },
  {
   "cell_type": "code",
   "execution_count": null,
   "metadata": {},
   "outputs": [],
   "source": [
    "# try out two more theme palettes and their corresponding colour palettes\n",
    "p1 = base + theme_prism(palette=\"summer\") + scale_colour_prism(palette=\"summer\")\n",
    "p2 = (\n",
    "    base\n",
    "    + theme_prism(palette=\"stained_glass\")\n",
    "    + scale_colour_prism(palette=\"stained_glass\")\n",
    ")\n",
    "\n",
    "print(p1, p2)\n"
   ]
  },
  {
   "cell_type": "code",
   "execution_count": null,
   "metadata": {},
   "outputs": [],
   "source": [
    "# Custom a new theme based on \"theme_prism\"\n",
    "\n",
    "def theme_new(\n",
    "    base_size=10,\n",
    "    base_family=\"monospace\",\n",
    "    base_fontface=\"bold\",\n",
    "    base_line_size=None,\n",
    "    base_rect_size=None,\n",
    "    axis_text_angle=0,\n",
    "    border=False,\n",
    "):\n",
    "    return theme_prism(\n",
    "        palette=\"stained_glass\",\n",
    "        base_size=base_size,\n",
    "        base_family=base_family,\n",
    "        base_fontface=base_fontface,\n",
    "        base_line_size=base_line_size,\n",
    "        base_rect_size=base_rect_size,\n",
    "        axis_text_angle=axis_text_angle,\n",
    "        border=border,\n",
    "    ) + theme(\n",
    "        panel_background=element_rect(fill=\"white\", colour=\"None\"),\n",
    "        plot_background=element_rect(fill=\"red\", colour=\"None\"),\n",
    "        axis_line=element_line(colour=\"black\"),\n",
    "        axis_ticks=element_line(colour=\"black\"),\n",
    "    )\n"
   ]
  },
  {
   "cell_type": "code",
   "execution_count": null,
   "metadata": {},
   "outputs": [],
   "source": [
    "# compare theme_prism() and our new theme function\n",
    "p1 = base + theme_prism()\n",
    "p2 = base + theme_new()\n",
    "\n",
    "print(p1, p2)"
   ]
  }
 ],
 "metadata": {
  "kernelspec": {
   "display_name": "Python 3 (ipykernel)",
   "language": "python",
   "name": "python3"
  },
  "language_info": {
   "codemirror_mode": {
    "name": "ipython",
    "version": 3
   },
   "file_extension": ".py",
   "mimetype": "text/x-python",
   "name": "python",
   "nbconvert_exporter": "python",
   "pygments_lexer": "ipython3",
   "version": "3.10.16"
  },
  "vscode": {
   "interpreter": {
    "hash": "8a3c967425bba98dad2354207343e80be90e224185dc626a8d0aa39a56d6d008"
   }
  }
 },
 "nbformat": 4,
 "nbformat_minor": 4
}
