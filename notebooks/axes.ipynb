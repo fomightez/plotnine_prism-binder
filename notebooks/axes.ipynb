{
 "cells": [
  {
   "cell_type": "code",
   "execution_count": 1,
   "metadata": {},
   "outputs": [],
   "source": [
    "%%capture\n",
    "!curl -OL https://raw.githubusercontent.com/pwwang/plotnine-prism/refs/heads/master/examples/nb_helpers.py\n",
    "import patchworklib as pw\n",
    "from plotnine import *\n",
    "from plotnine_prism import *\n",
    "from datar.base import seq, rep\n",
    "\n",
    "%run nb_helpers.py"
   ]
  },
  {
   "attachments": {},
   "cell_type": "markdown",
   "metadata": {},
   "source": [
    "# Minor ticks"
   ]
  },
  {
   "cell_type": "code",
   "execution_count": null,
   "metadata": {},
   "outputs": [],
   "source": [
    "\n",
    "# Minor ticks are on by default in plotnine\n",
    "\n",
    "p = (\n",
    "    ggplot(ToothGrowth, aes(x=\"supp\", y=\"len\"))\n",
    "    + geom_boxplot(aes(fill=\"supp\"))\n",
    "    + theme_prism()\n",
    "    + theme(legend_position=\"none\")\n",
    ")\n",
    "\n",
    "# to turn it off\n",
    "p1 = p + scale_y_continuous(guide=guide_prism())\n",
    "# to turn it on again\n",
    "p2 = p + scale_y_continuous(guide=guide_prism_minor())\n",
    "# or\n",
    "p3 = p + guides(y = \"prism_minor\")\n",
    "\n",
    "b1 = pw.load_ggplot(p1)\n",
    "b2 = pw.load_ggplot(p2)\n",
    "b3 = pw.load_ggplot(p3)\n",
    "(b1 | b2) / (b3)"
   ]
  },
  {
   "cell_type": "code",
   "execution_count": null,
   "metadata": {},
   "outputs": [],
   "source": [
    "# compare 1 minor ticks (default) vs 4 minor ticks per major tick\n",
    "p = (\n",
    "    ggplot(ToothGrowth, aes(x=\"dose\", y=\"len\"))\n",
    "    + stat_summary(\n",
    "        aes(fill=\"dose\"),\n",
    "        na_rm=True,\n",
    "        geom=\"col\",\n",
    "        fun_y=numpy.mean,\n",
    "        colour=\"black\",\n",
    "        size=0.9,\n",
    "    )\n",
    "    + theme_prism()\n",
    ")\n",
    "\n",
    "p1 = p + scale_y_continuous(\n",
    "    guide=guide_prism_minor(),\n",
    "    limits=(0, 30),\n",
    "    expand=(0, 0),\n",
    ")\n",
    "p2 = p + scale_y_continuous(\n",
    "    guide=guide_prism_minor(),\n",
    "    limits=(0, 30),\n",
    "    expand=(0, 0),\n",
    "    minor_breaks=seq(0, 30, 2),\n",
    ")\n",
    "\n",
    "b1 = pw.load_ggplot(p1)\n",
    "b2 = pw.load_ggplot(p2)\n",
    "b1 | b2"
   ]
  },
  {
   "cell_type": "code",
   "execution_count": null,
   "metadata": {},
   "outputs": [],
   "source": [
    "# log10 minor ticks\n",
    "\n",
    "p = (\n",
    "    ggplot(msleep, aes(\"bodywt\", \"brainwt\"))\n",
    "    + geom_point(na_rm=True)\n",
    "    + theme_prism()\n",
    ")\n",
    "\n",
    "# log10 minor ticks added automatically\n",
    "p1 = p + scale_x_log10(\n",
    "    limits=(1e0, 1e4),\n",
    "    guide=guide_prism_minor(),\n",
    ")\n",
    "# get back to normal minor ticks\n",
    "p2 = p + scale_x_log10(\n",
    "    limits=(1e0, 1e4),\n",
    "    minor_breaks=[10**.5, 10**1.5, 10**2.5, 10**3.5],\n",
    "    guide=guide_prism_minor(),\n",
    ")\n",
    "\n",
    "b1 = pw.load_ggplot(p1)\n",
    "b2 = pw.load_ggplot(p2)\n",
    "b1 | b2"
   ]
  },
  {
   "cell_type": "code",
   "execution_count": null,
   "metadata": {},
   "outputs": [],
   "source": [
    "# change minor tick length\n",
    "p = (\n",
    "    ggplot(ToothGrowth, aes(x=\"dose\", y=\"len\"))\n",
    "    + stat_summary(\n",
    "        aes(fill=\"dose\"),\n",
    "        na_rm=True,\n",
    "        geom=\"col\",\n",
    "        fun_y=numpy.mean,\n",
    "        colour=\"black\",\n",
    "        size=0.9,\n",
    "    )\n",
    "    + theme_prism()\n",
    "    + scale_y_continuous(\n",
    "        guide=guide_prism_minor(),\n",
    "        limits=(0, 30),\n",
    "        expand=(0, 0),\n",
    "        minor_breaks=seq(0, 30, 2),\n",
    "    )\n",
    ")\n",
    "\n",
    "p1 = p + theme(legend_position=\"none\")\n",
    "p2 = p + theme(legend_position=\"none\", prism_ticks_length_y=20)\n",
    "\n",
    "b1 = pw.load_ggplot(p1)\n",
    "b2 = pw.load_ggplot(p2)\n",
    "b1 | b2\n"
   ]
  },
  {
   "cell_type": "code",
   "execution_count": null,
   "metadata": {},
   "outputs": [],
   "source": [
    "# change minor tick length\n",
    "p1 = p + theme(legend_position=\"none\", prism_ticks_length_y=20)\n",
    "p2 = p + theme(legend_position=\"none\", prism_ticks_length_y=-20)\n",
    "\n",
    "b1 = pw.load_ggplot(p1)\n",
    "b2 = pw.load_ggplot(p2)\n",
    "b1 | b2"
   ]
  },
  {
   "cell_type": "code",
   "execution_count": null,
   "metadata": {},
   "outputs": [],
   "source": [
    "# change how ticks look\n",
    "\n",
    "p1 = p + theme(legend_position=\"none\")\n",
    "p2 = p + theme(\n",
    "    legend_position=\"none\",\n",
    "    axis_ticks_y=element_line(size=6, color=\"blue\"),\n",
    ")\n",
    "\n",
    "b1 = pw.load_ggplot(p1)\n",
    "b2 = pw.load_ggplot(p2)\n",
    "b1 | b2\n"
   ]
  },
  {
   "attachments": {},
   "cell_type": "markdown",
   "metadata": {},
   "source": [
    "# Offset axis"
   ]
  },
  {
   "cell_type": "code",
   "execution_count": null,
   "metadata": {},
   "outputs": [],
   "source": [
    "# show that offset axis looks better when you specify the axis limits\n",
    "p = (\n",
    "    ggplot(ToothGrowth, aes(x=\"supp\", y=\"len\"))\n",
    "    + geom_boxplot(aes(fill=\"supp\"))\n",
    "    + theme_prism()\n",
    "    # guides not working without legend in plotnine\n",
    "    # + theme(legend_position=\"none\")\n",
    ")\n",
    "\n",
    "\n",
    "p1 = p + scale_y_continuous(guide=guide_prism_offset())\n",
    "p2 = p + scale_y_continuous(limits=(0, 40), guide=guide_prism_offset())\n",
    "\n",
    "print(p1, p2)\n"
   ]
  },
  {
   "cell_type": "code",
   "execution_count": null,
   "metadata": {},
   "outputs": [],
   "source": [
    "# change appearance of offset axis\n",
    "p = (\n",
    "    ggplot(ToothGrowth, aes(x=\"supp\", y=\"len\"))\n",
    "    + geom_boxplot(aes(fill=\"supp\"))\n",
    "    + theme_prism()\n",
    "    + scale_y_continuous(limits=(0, 40), guide=guide_prism_offset())\n",
    ")\n",
    "\n",
    "p1 = p\n",
    "p2 = p + theme(axis_line_y=element_line(colour=\"blue\", size=4))\n",
    "\n",
    "print(p1, p2)"
   ]
  },
  {
   "cell_type": "code",
   "execution_count": null,
   "metadata": {},
   "outputs": [],
   "source": [
    "# compare prism_minor with prism_offset_minor\n",
    "p = (\n",
    "    ggplot(ToothGrowth, aes(x=\"supp\", y=\"len\"))\n",
    "    + geom_boxplot(aes(fill=\"supp\"))\n",
    "    + theme_prism()\n",
    ")\n",
    "\n",
    "p1 = p + scale_y_continuous(guide=guide_prism_offset())\n",
    "p2 = p + scale_y_continuous(guide=guide_prism_offset_minor())\n",
    "\n",
    "print(p1, p2)\n"
   ]
  },
  {
   "cell_type": "code",
   "execution_count": null,
   "metadata": {},
   "outputs": [],
   "source": [
    "# As with guide_prism_offset(), the axis tends to look better\n",
    "# if you explicitly set the axis limits.\n",
    "p = (\n",
    "    ggplot(ToothGrowth, aes(x=\"supp\", y=\"len\"))\n",
    "    + geom_boxplot(aes(fill=\"supp\"))\n",
    "    + theme_prism()\n",
    ")\n",
    "\n",
    "p1 = p + scale_y_continuous(guide=guide_prism_offset_minor())\n",
    "p2 = p + scale_y_continuous(limits=(0, 40), guide=guide_prism_offset_minor())\n",
    "\n",
    "print(p1, p2)\n"
   ]
  },
  {
   "cell_type": "code",
   "execution_count": null,
   "metadata": {},
   "outputs": [],
   "source": [
    "# compare 1 minor tick to 4 minor ticks per major\n",
    "p = (\n",
    "    ggplot(ToothGrowth, aes(x=\"supp\", y=\"len\"))\n",
    "    + geom_boxplot(aes(fill=\"supp\"))\n",
    "    + theme_prism()\n",
    ")\n",
    "\n",
    "p1 = p + scale_y_continuous(\n",
    "    limits=(0, 40),\n",
    "    guide=guide_prism_offset_minor(),\n",
    ")\n",
    "p2 = p + scale_y_continuous(\n",
    "    limits=(0, 40),\n",
    "    minor_breaks=seq(0, 40, 2),\n",
    "    guide=guide_prism_offset_minor(),\n",
    ")\n",
    "\n",
    "print(p1, p2)"
   ]
  },
  {
   "cell_type": "code",
   "execution_count": null,
   "metadata": {},
   "outputs": [],
   "source": [
    "# change minor tick length and direction\n",
    "p = (\n",
    "    ggplot(ToothGrowth, aes(x=\"supp\", y=\"len\"))\n",
    "    + geom_boxplot(aes(fill=\"supp\"))\n",
    "    + theme_prism()\n",
    "    + scale_y_continuous(\n",
    "        limits=(0, 40),\n",
    "        minor_breaks=seq(0, 40, 2),\n",
    "        guide=guide_prism_offset_minor(),\n",
    "    )\n",
    ")\n",
    "\n",
    "p1 = p + theme(prism_ticks_length_y=20)\n",
    "p2 = p + theme(prism_ticks_length_y=-20)\n",
    "\n",
    "print(p1, p2)\n"
   ]
  },
  {
   "cell_type": "code",
   "execution_count": null,
   "metadata": {},
   "outputs": [],
   "source": [
    "# change minor tick length and direction\n",
    "p = (\n",
    "    ggplot(ToothGrowth, aes(x=\"supp\", y=\"len\"))\n",
    "    + geom_boxplot(aes(fill=\"supp\"))\n",
    "    + theme_prism()\n",
    "    + scale_y_continuous(\n",
    "        limits=(0, 40),\n",
    "        minor_breaks=seq(0, 40, 2),\n",
    "        guide=guide_prism_offset_minor(),\n",
    "    )\n",
    ")\n",
    "\n",
    "p1 = p + theme(prism_ticks_length_y=20)\n",
    "p2 = p + theme(\n",
    "    prism_ticks_length_y=20,\n",
    "    axis_ticks_y=element_line(size=10),\n",
    ")\n",
    "\n",
    "print(p1, p2)\n"
   ]
  },
  {
   "attachments": {},
   "cell_type": "markdown",
   "metadata": {},
   "source": [
    "# Border with minor ticks"
   ]
  },
  {
   "cell_type": "code",
   "execution_count": null,
   "metadata": {},
   "outputs": [],
   "source": [
    "# define a base plot\n",
    "from datar.data import mpg\n",
    "base = ggplot(mpg, aes(x=\"displ\", y=\"cty\")) + geom_point(aes(colour=\"class\"))\n",
    "\n",
    "base\n"
   ]
  },
  {
   "cell_type": "code",
   "execution_count": null,
   "metadata": {},
   "outputs": [],
   "source": [
    "# apply theme_prism and turn clipping off for the border\n",
    "p = (\n",
    "    base\n",
    "    + theme_prism(border=True)\n",
    "    + theme(legend_position=(0.75, 0.65))\n",
    "    + coord_cartesian()\n",
    "    + scale_x_continuous(guide=guide_prism())\n",
    "    + scale_y_continuous(guide=guide_prism())\n",
    ")\n",
    "p\n"
   ]
  },
  {
   "cell_type": "code",
   "execution_count": null,
   "metadata": {},
   "outputs": [],
   "source": [
    "# get minor ticks back\n",
    "p = (\n",
    "    base\n",
    "    + theme_prism(border=True)\n",
    "    + theme(legend_position=(0.75, 0.65))\n",
    "    + coord_cartesian()\n",
    "    + scale_x_continuous(guide=guide_prism_minor())\n",
    "    + scale_y_continuous(guide=guide_prism_minor())\n",
    ")\n",
    "p"
   ]
  }
 ],
 "metadata": {
  "kernelspec": {
   "display_name": "Python 3 (ipykernel)",
   "language": "python",
   "name": "python3"
  },
  "language_info": {
   "codemirror_mode": {
    "name": "ipython",
    "version": 3
   },
   "file_extension": ".py",
   "mimetype": "text/x-python",
   "name": "python",
   "nbconvert_exporter": "python",
   "pygments_lexer": "ipython3",
   "version": "3.10.16"
  },
  "vscode": {
   "interpreter": {
    "hash": "8a3c967425bba98dad2354207343e80be90e224185dc626a8d0aa39a56d6d008"
   }
  }
 },
 "nbformat": 4,
 "nbformat_minor": 4
}
